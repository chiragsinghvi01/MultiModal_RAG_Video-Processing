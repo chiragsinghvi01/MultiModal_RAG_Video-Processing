{
 "cells": [
  {
   "cell_type": "code",
   "execution_count": 39,
   "id": "40353970",
   "metadata": {},
   "outputs": [],
   "source": [
    "from moviepy import VideoFileClip\n",
    "from pathlib import Path\n",
    "import speech_recognition as sr\n",
    "from yt_dlp import YoutubeDL\n",
    "from pprint import pprint\n",
    "from PIL import Image\n",
    "import matplotlib.pyplot as plt\n",
    "import json"
   ]
  },
  {
   "cell_type": "code",
   "execution_count": null,
   "id": "0ddf0faf",
   "metadata": {},
   "outputs": [],
   "source": [
    "import os\n",
    "OPENAI_API_KEY = os.getenv(\"OPENAI_API_KEY\")\n",
    "os.environ[\"OPENAI_API_KEY\"] = OPENAI_API_KEY\n",
    "\n",
    "print(os.getcwd())"
   ]
  },
  {
   "cell_type": "code",
   "execution_count": 6,
   "id": "4337d2f9",
   "metadata": {},
   "outputs": [],
   "source": [
    "video_url = \"https://youtu.be/sw_IK4M7S0A?si=FT_ZFohHnGmzaMHp\""
   ]
  },
  {
   "cell_type": "code",
   "execution_count": 7,
   "id": "846d8f74",
   "metadata": {},
   "outputs": [],
   "source": [
    "output_video_path = \"./video_data/\"\n",
    "output_folder = \"./mixed_data/\"\n",
    "output_audio_path = \"./mixed_data/output_audio.wav\""
   ]
  },
  {
   "cell_type": "code",
   "execution_count": 8,
   "id": "31887084",
   "metadata": {},
   "outputs": [],
   "source": [
    "filepath = output_video_path + \"input_vid.mp4\"\n",
    "Path(output_folder).mkdir(parents=True, exist_ok=True)"
   ]
  },
  {
   "cell_type": "code",
   "execution_count": 9,
   "id": "38b14f43",
   "metadata": {},
   "outputs": [],
   "source": [
    "def download_video(url, output_path):\n",
    "    options = {\n",
    "        'outtmpl': f'{output_path}/input_vid.%(ext)s',\n",
    "        'format': 'best[ext=mp4]/best',  # Prefer mp4 format to avoid merging\n",
    "        'quiet': True,\n",
    "        'no_warnings': True,\n",
    "    }\n",
    "\n",
    "    with YoutubeDL(options) as ydl:\n",
    "        info = ydl.extract_info(url, download=True)\n",
    "        metadata = {\n",
    "            \"Author\": info.get(\"uploader\"),\n",
    "            \"Title\": info.get(\"title\"),\n",
    "            \"Views\": info.get(\"view_count\"),\n",
    "            \"Duration\": info.get(\"duration\"),\n",
    "        }\n",
    "        return metadata"
   ]
  },
  {
   "cell_type": "code",
   "execution_count": 10,
   "id": "15b2dd37",
   "metadata": {},
   "outputs": [],
   "source": [
    "def video_to_images(video_path, output_folder):\n",
    "    clip = VideoFileClip(video_path)\n",
    "    clip.write_images_sequence(os.path.join(output_folder, \"frame_%04d.png\"), fps=0.2)\n",
    "    "
   ]
  },
  {
   "cell_type": "code",
   "execution_count": 11,
   "id": "de5d3e82",
   "metadata": {},
   "outputs": [],
   "source": [
    "def video_to_audio(video_path, output_audio_path):\n",
    "    clip = VideoFileClip(video_path)\n",
    "    audio = clip.audio\n",
    "    audio.write_audiofile(output_audio_path)"
   ]
  },
  {
   "cell_type": "code",
   "execution_count": 12,
   "id": "f812f423",
   "metadata": {},
   "outputs": [],
   "source": [
    "def audio_to_text(audio_path):\n",
    "    recognizer = sr.Recognizer()\n",
    "    audio=sr.AudioFile(audio_path)\n",
    "\n",
    "    with audio as source:\n",
    "        audio_data = recognizer.record(source)\n",
    "\n",
    "        try:\n",
    "            text = recognizer.recognize_whisper(audio_data)\n",
    "        \n",
    "        except sr.UnknownValueError:\n",
    "            print(\"Audio not recognized\")         \n",
    "    return text"
   ]
  },
  {
   "cell_type": "code",
   "execution_count": 13,
   "id": "f9067c2c",
   "metadata": {},
   "outputs": [
    {
     "name": "stdout",
     "output_type": "stream",
     "text": [
      "                             \r"
     ]
    }
   ],
   "source": [
    "metadata_vid = download_video(video_url, output_video_path)"
   ]
  },
  {
   "cell_type": "code",
   "execution_count": 14,
   "id": "ecad0765",
   "metadata": {},
   "outputs": [
    {
     "name": "stderr",
     "output_type": "stream",
     "text": [
      "                                                            \r"
     ]
    }
   ],
   "source": [
    "video_to_images(filepath, output_folder)"
   ]
  },
  {
   "cell_type": "code",
   "execution_count": null,
   "id": "6625eade",
   "metadata": {},
   "outputs": [],
   "source": [
    "video_to_audio(filepath, output_audio_path)"
   ]
  },
  {
   "cell_type": "code",
   "execution_count": 16,
   "id": "3f4349c7",
   "metadata": {},
   "outputs": [],
   "source": [
    "text_data = audio_to_text(output_audio_path)"
   ]
  },
  {
   "cell_type": "code",
   "execution_count": null,
   "id": "27f80163",
   "metadata": {},
   "outputs": [],
   "source": [
    "with open(os.path.join(output_folder, \"text_data.txt\"), \"w\") as f:\n",
    "    f.write(text_data)\n",
    "    print(\"Text data saved to text_data.txt\")\n",
    "    f.close()"
   ]
  },
  {
   "cell_type": "code",
   "execution_count": null,
   "id": "8cb88bd8",
   "metadata": {},
   "outputs": [],
   "source": [
    "os.remove(output_audio_path)\n",
    "print(\"Audio file removed after processing.\")"
   ]
  },
  {
   "cell_type": "code",
   "execution_count": 19,
   "id": "38c2b089",
   "metadata": {},
   "outputs": [],
   "source": [
    "from llama_index.core.indices import MultiModalVectorStoreIndex\n",
    "from llama_index.core import SimpleDirectoryReader, StorageContext\n",
    "from llama_index.vector_stores.lancedb import LanceDBVectorStore"
   ]
  },
  {
   "cell_type": "code",
   "execution_count": null,
   "id": "e394bc48",
   "metadata": {},
   "outputs": [],
   "source": [
    "from llama_index.core import Settings\n",
    "from llama_index.embeddings.huggingface import HuggingFaceEmbedding\n",
    "\n",
    "embed_model = HuggingFaceEmbedding(model_name=\"BAAI/bge-small-en-v1.5\")\n",
    "Settings.embed_model = embed_model"
   ]
  },
  {
   "cell_type": "code",
   "execution_count": 21,
   "id": "448488b6",
   "metadata": {},
   "outputs": [],
   "source": [
    "text_store = LanceDBVectorStore(uri=\"lancedb\", table_name=\"text_collection\")\n",
    "image_store = LanceDBVectorStore(uri=\"lancedb\", table_name=\"image_collection\")"
   ]
  },
  {
   "cell_type": "code",
   "execution_count": 22,
   "id": "b18bff9c",
   "metadata": {},
   "outputs": [],
   "source": [
    "storage_context = StorageContext.from_defaults(\n",
    "    vector_store=text_store,\n",
    "    image_store=image_store\n",
    ")"
   ]
  },
  {
   "cell_type": "code",
   "execution_count": 23,
   "id": "45f98ade",
   "metadata": {},
   "outputs": [],
   "source": [
    "documents = SimpleDirectoryReader(output_folder).load_data()\n"
   ]
  },
  {
   "cell_type": "code",
   "execution_count": null,
   "id": "be801978",
   "metadata": {},
   "outputs": [],
   "source": [
    "index = MultiModalVectorStoreIndex.from_documents(\n",
    "    documents,\n",
    "    storage_context=storage_context,\n",
    ")"
   ]
  },
  {
   "cell_type": "code",
   "execution_count": 25,
   "id": "7f671278",
   "metadata": {},
   "outputs": [],
   "source": [
    "retriever_engine = index.as_retriever(similarity_top_k=1, image_similarity_top_k=3)"
   ]
  },
  {
   "cell_type": "code",
   "execution_count": 27,
   "id": "7bee29ab",
   "metadata": {},
   "outputs": [],
   "source": [
    "\n",
    "from llama_index.core.response.notebook_utils import display_source_node\n",
    "from llama_index.core.schema import ImageNode"
   ]
  },
  {
   "cell_type": "code",
   "execution_count": 28,
   "id": "7b4573cc",
   "metadata": {},
   "outputs": [],
   "source": [
    "def retrieve(retriever_engine, query_str):\n",
    "    retrieval_results = retriever_engine.retrieve(query_str)\n",
    "\n",
    "    retrieved_images = []\n",
    "    retrieved_texts = []\n",
    "    for res_node in retrieval_results:\n",
    "        if isinstance(res_node.node, ImageNode):\n",
    "            retrieved_images.append(res_node.node.metadata[\"file_path\"])\n",
    "        else:\n",
    "            display_source_node(res_node, source_length=200)\n",
    "            retrieved_texts.append(res_node.text)\n",
    "    return retrieved_images, retrieved_texts"
   ]
  },
  {
   "cell_type": "code",
   "execution_count": 29,
   "id": "543ca202",
   "metadata": {},
   "outputs": [],
   "source": [
    "query = \"What is langchain and how does it work?\""
   ]
  },
  {
   "cell_type": "code",
   "execution_count": null,
   "id": "473cc3f1",
   "metadata": {},
   "outputs": [],
   "source": [
    "img, text = retrieve(retriever_engine, query)"
   ]
  },
  {
   "cell_type": "code",
   "execution_count": 31,
   "id": "c46bcc36",
   "metadata": {},
   "outputs": [],
   "source": [
    "def plot_images(image_paths):\n",
    "    images_shown = 0\n",
    "    plt.Figure(figsize=(16, 9))\n",
    "\n",
    "    for img_path in image_paths:\n",
    "        if os.path.isfile(img_path):\n",
    "            image = Image.open(img_path)\n",
    "            plt.subplot(2, 3, images_shown + 1)\n",
    "            plt.imshow(image)\n",
    "            plt.axis('off')\n",
    "            images_shown += 1\n",
    "            if images_shown >= 5:\n",
    "                break"
   ]
  },
  {
   "cell_type": "code",
   "execution_count": null,
   "id": "9807e039",
   "metadata": {},
   "outputs": [],
   "source": [
    "plot_images(img)"
   ]
  },
  {
   "cell_type": "code",
   "execution_count": 38,
   "id": "f0fd3ae8",
   "metadata": {},
   "outputs": [],
   "source": [
    "qa_tmpl_str = (\n",
    "    \"Given the provided information, including relevant images and retrieved context from the video, \\\n",
    " accurately and precisely answer the query without any additional prior knowledge.\\n\"\n",
    "    \"Please ensure honesty and responsibility, refraining from any racist or sexist remarks.\\n\"\n",
    "    \"---------------------\\n\"\n",
    "    \"Context: {context_str}\\n\"\n",
    "    \"Metadata for video: {metadata_str} \\n\"\n",
    "    \"---------------------\\n\"\n",
    "    \"Query: {query_str}\\n\"\n",
    "    \"Answer: \"\n",
    ")"
   ]
  },
  {
   "cell_type": "code",
   "execution_count": 50,
   "id": "c6b0bcac",
   "metadata": {},
   "outputs": [],
   "source": [
    "from llama_index.core.schema import ImageNode\n",
    "\n",
    "image_nodes = []\n",
    "for img_path in img:\n",
    "    if os.path.isfile(img_path):\n",
    "        image_node = ImageNode(image_path=img_path)\n",
    "        image_nodes.append(image_node)"
   ]
  },
  {
   "cell_type": "code",
   "execution_count": 44,
   "id": "8fcaaf89",
   "metadata": {},
   "outputs": [],
   "source": [
    "from llama_index.multi_modal_llms.openai import OpenAIMultiModal"
   ]
  },
  {
   "cell_type": "code",
   "execution_count": null,
   "id": "10f0c832",
   "metadata": {},
   "outputs": [],
   "source": [
    "mm_llm = OpenAIMultiModal(\n",
    "    model=\"gpt-4o\",  # Using gpt-4o which has better vision capabilities\n",
    "    api_key=OPENAI_API_KEY,\n",
    "    max_new_tokens=1500,\n",
    ")"
   ]
  },
  {
   "cell_type": "code",
   "execution_count": null,
   "id": "b24a940a",
   "metadata": {},
   "outputs": [],
   "source": [
    "result = mm_llm.complete(\n",
    "    prompt=qa_tmpl_str.format(\n",
    "        query_str=query,\n",
    "        context_str=\"\\n\".join(text),\n",
    "        metadata_str=json.dumps(metadata_vid)\n",
    "    ),\n",
    "    image_documents=image_nodes,\n",
    ")"
   ]
  },
  {
   "cell_type": "code",
   "execution_count": null,
   "id": "96325752",
   "metadata": {},
   "outputs": [],
   "source": [
    "pprint(result.text)"
   ]
  }
 ],
 "metadata": {
  "kernelspec": {
   "display_name": "Python 3",
   "language": "python",
   "name": "python3"
  },
  "language_info": {
   "codemirror_mode": {
    "name": "ipython",
    "version": 3
   },
   "file_extension": ".py",
   "mimetype": "text/x-python",
   "name": "python",
   "nbconvert_exporter": "python",
   "pygments_lexer": "ipython3",
   "version": "3.13.5"
  }
 },
 "nbformat": 4,
 "nbformat_minor": 5
}
